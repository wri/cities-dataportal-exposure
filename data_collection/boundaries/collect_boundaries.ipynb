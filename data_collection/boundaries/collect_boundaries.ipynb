{
 "cells": [
  {
   "cell_type": "code",
   "execution_count": null,
   "id": "3ea08c08",
   "metadata": {},
   "outputs": [],
   "source": [
    "import json\n",
    "import requests\n"
   ]
  },
  {
   "cell_type": "code",
   "execution_count": null,
   "id": "061c4b00",
   "metadata": {},
   "outputs": [],
   "source": [
    "r = requests.get(\"https://www.geoboundaries.org/gbRequest.html?ISO=EGY&ADM=ADM1\")\n",
    "dlPath = r.json()[0]['gjDownloadURL']\n",
    "geoBoundary = requests.get(dlPath).json()\n",
    "print(geoBoundary[\"features\"][1][\"geometry\"])"
   ]
  }
 ],
 "metadata": {
  "kernelspec": {
   "display_name": "Python 3 (ipykernel)",
   "language": "python",
   "name": "python3"
  },
  "language_info": {
   "codemirror_mode": {
    "name": "ipython",
    "version": 3
   },
   "file_extension": ".py",
   "mimetype": "text/x-python",
   "name": "python",
   "nbconvert_exporter": "python",
   "pygments_lexer": "ipython3",
   "version": "3.8.10"
  }
 },
 "nbformat": 4,
 "nbformat_minor": 5
}
